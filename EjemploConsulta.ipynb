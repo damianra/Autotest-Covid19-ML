{
 "cells": [
  {
   "cell_type": "code",
   "execution_count": 2,
   "metadata": {},
   "outputs": [
    {
     "name": "stdout",
     "output_type": "stream",
     "text": [
      "37.4\n",
      "0\n",
      "1\n",
      "0\n",
      "0\n",
      "0\n",
      "1\n",
      "1\n",
      "0\n",
      "Posible\n"
     ]
    }
   ],
   "source": [
    "import requests\n",
    "\n",
    "r = requests.post('https://autotest-ml.herokuapp.com/autotest', json={\n",
    "                                                                      \"temp\": \"37.4\",\n",
    "                                                                      \"zona\": \"0\",\n",
    "                                                                      \"contacto\": \"1\",\n",
    "                                                                      \"cansancio\": \"0\",\n",
    "                                                                      \"perOlf\": \"0\",\n",
    "                                                                      \"perGus\": \"0\",\n",
    "                                                                      \"tos\": \"1\",\n",
    "                                                                      \"difRes\": \"1\",\n",
    "                                                                      \"pacRiesgo\": \"0\"\n",
    "                                                                      })\n",
    "json = r.json()\n",
    "print(json['Temperatura'])\n",
    "print(json['Zona de riesgo'])\n",
    "print(json['Contacto con Algun enfermo'])\n",
    "print(json['Cansancio'])\n",
    "print(json['Perd. Olfato'])\n",
    "print(json['Perd. Gusto'])\n",
    "print(json['Tos o Dolor garganta'])\n",
    "print(json['Dificultad Resp.'])\n",
    "print(json['Situacion de Riesgo'])\n",
    "print(json['Clasificacion'])"
   ]
  },
  {
   "cell_type": "code",
   "execution_count": null,
   "metadata": {},
   "outputs": [],
   "source": []
  }
 ],
 "metadata": {
  "kernelspec": {
   "display_name": "Python 3",
   "language": "python",
   "name": "python3"
  },
  "language_info": {
   "codemirror_mode": {
    "name": "ipython",
    "version": 3
   },
   "file_extension": ".py",
   "mimetype": "text/x-python",
   "name": "python",
   "nbconvert_exporter": "python",
   "pygments_lexer": "ipython3",
   "version": "3.7.5"
  }
 },
 "nbformat": 4,
 "nbformat_minor": 4
}
